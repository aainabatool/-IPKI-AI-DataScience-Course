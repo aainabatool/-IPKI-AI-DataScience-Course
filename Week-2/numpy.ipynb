{
 "cells": [
  {
   "cell_type": "markdown",
   "id": "cb604074",
   "metadata": {},
   "source": [
    "Part 1: Introduction\n",
    "\n",
    "What is NumPy?\n",
    "1. Numerical Python library for arrays & matrices\n",
    "2. Much faster than Python lists (because it uses C under the hood)\n",
    "3. Why do we need NumPy? (AI/ML, data science, image processing, etc.)"
   ]
  },
  {
   "cell_type": "code",
   "execution_count": 5,
   "id": "b7bf66e4",
   "metadata": {},
   "outputs": [
    {
     "name": "stdout",
     "output_type": "stream",
     "text": [
      "Collecting numpy\n",
      "  Downloading numpy-2.3.3-cp312-cp312-manylinux_2_27_x86_64.manylinux_2_28_x86_64.whl.metadata (62 kB)\n",
      "Downloading numpy-2.3.3-cp312-cp312-manylinux_2_27_x86_64.manylinux_2_28_x86_64.whl (16.6 MB)\n",
      "\u001b[2K   \u001b[90m━━━━━━━━━━━━━━━━━━━━━━━━━━━━━━━━━━━━━━━━\u001b[0m \u001b[32m16.6/16.6 MB\u001b[0m \u001b[31m26.5 MB/s\u001b[0m  \u001b[33m0:00:00\u001b[0mm0:00:01\u001b[0m00:01\u001b[0m\n",
      "\u001b[?25hInstalling collected packages: numpy\n",
      "Successfully installed numpy-2.3.3\n"
     ]
    }
   ],
   "source": [
    "!pip install numpy\n"
   ]
  },
  {
   "cell_type": "code",
   "execution_count": 6,
   "id": "91de3ab0",
   "metadata": {},
   "outputs": [],
   "source": [
    "import numpy as np"
   ]
  },
  {
   "cell_type": "code",
   "execution_count": 7,
   "id": "23c8ac78",
   "metadata": {},
   "outputs": [
    {
     "name": "stdout",
     "output_type": "stream",
     "text": [
      "<class 'list'>\n",
      "<class 'numpy.ndarray'>\n"
     ]
    }
   ],
   "source": [
    "lst = [1, 2, 3, 4, 5]\n",
    "arr = np.array([1, 2, 3, 4, 5])\n",
    "\n",
    "print(type(lst))   # list\n",
    "print(type(arr))   # numpy.ndarray"
   ]
  },
  {
   "cell_type": "markdown",
   "id": "94cf35f7",
   "metadata": {},
   "source": [
    "Part 2: Creating Arrays"
   ]
  },
  {
   "cell_type": "code",
   "execution_count": 17,
   "id": "27666b33",
   "metadata": {},
   "outputs": [
    {
     "name": "stdout",
     "output_type": "stream",
     "text": [
      "a = [1 2 3]\n",
      "b = [[1 2]\n",
      " [3 4]]\n",
      "c = [[0. 0. 0.]\n",
      " [0. 0. 0.]\n",
      " [0. 0. 0.]]\n",
      "d = [[1. 1.]\n",
      " [1. 1.]]\n",
      "e = [0 2 4 6 8]\n",
      "f = [0.   0.25 0.5  0.75 1.  ]\n",
      "g = [[1. 0. 0.]\n",
      " [0. 1. 0.]\n",
      " [0. 0. 1.]]\n"
     ]
    }
   ],
   "source": [
    "a = np.array([1, 2, 3])           # 1D\n",
    "b = np.array([[1, 2], [3, 4]])    # 2D\n",
    "c = np.zeros((3, 3))              # 3x3 of zeros\n",
    "d = np.ones((2, 2))               # 2x2 of ones\n",
    "e = np.arange(0, 10, 2)           # [0, 2, 4, 6, 8]\n",
    "f = np.linspace(0, 1, 5)          # [0. , 0.25, 0.5 , 0.75, 1. ] #evenly spaced values\n",
    "g = np.eye(3, 3)                     # 3x3 Identity matrix \n",
    "\n",
    "print(\"a =\", a)\n",
    "print(\"b =\", b)\n",
    "print(\"c =\", c)\n",
    "print(\"d =\", d)\n",
    "print(\"e =\", e)\n",
    "print(\"f =\", f)\n",
    "print(\"g =\", g)"
   ]
  },
  {
   "cell_type": "code",
   "execution_count": 18,
   "id": "c154a2f1",
   "metadata": {},
   "outputs": [
    {
     "name": "stdout",
     "output_type": "stream",
     "text": [
      "[[7 7 7 7 7]\n",
      " [7 7 7 7 7]\n",
      " [7 7 7 7 7]\n",
      " [7 7 7 7 7]\n",
      " [7 7 7 7 7]]\n",
      "[10.         12.15789474 14.31578947 16.47368421 18.63157895 20.78947368\n",
      " 22.94736842 25.10526316 27.26315789 29.42105263 31.57894737 33.73684211\n",
      " 35.89473684 38.05263158 40.21052632 42.36842105 44.52631579 46.68421053\n",
      " 48.84210526 51.        ]\n"
     ]
    }
   ],
   "source": [
    "A = np.full((5, 5), 7)      #5x5 matrix of all 7s\n",
    "print(A)\n",
    "\n",
    "B = np.linspace(10, 51, 20)  #A vector of 20 values from 10 to 50 equally spaced\n",
    "print(B)"
   ]
  },
  {
   "cell_type": "markdown",
   "id": "bfdbefc7",
   "metadata": {},
   "source": [
    "Part 3: Array Attributes"
   ]
  },
  {
   "cell_type": "markdown",
   "id": "1ee2f157",
   "metadata": {},
   "source": []
  },
  {
   "cell_type": "code",
   "execution_count": 20,
   "id": "80ea40f9",
   "metadata": {},
   "outputs": [
    {
     "name": "stdout",
     "output_type": "stream",
     "text": [
      "(2, 3)\n",
      "6\n"
     ]
    }
   ],
   "source": [
    "arr = np.array([[1,2,3],[4,5,6]])\n",
    "print(arr.shape)   # (2, 3)\n",
    "print(arr.size)    # 6  #total number of elements\n"
   ]
  },
  {
   "cell_type": "markdown",
   "id": "4c5b6409",
   "metadata": {},
   "source": [
    "Part 4: Indexing & Slicing"
   ]
  },
  {
   "cell_type": "code",
   "execution_count": null,
   "id": "0776b319",
   "metadata": {},
   "outputs": [
    {
     "name": "stdout",
     "output_type": "stream",
     "text": [
      "10\n",
      "50\n",
      "[20 30 40]\n",
      "3\n",
      "[2 5 8]\n",
      "[[4 5]\n",
      " [7 8]]\n",
      "[2 5 8]\n"
     ]
    }
   ],
   "source": [
    "arr = np.array([10,20,30,40,50])\n",
    "print(arr[0])      # 10\n",
    "print(arr[-1])     # 50\n",
    "print(arr[1:4])    # [20 30 40]\n",
    "\n",
    "matrix = np.array([[1,2,3],[4,5,6],[7,8,9]])\n",
    "print(matrix[0, 2])       # 3\n",
    "print(matrix[:,1])        # [2 5 8] #all rows, column 1\n",
    "print(matrix[1:3, 0:2])                # [[4 5]\n",
    "            #rows #columns          #  [7 8]]   # rows 1-2, columns 0-1\n",
    "\n",
    "#extract 2nd column from 3x3 matrix"
   ]
  },
  {
   "cell_type": "markdown",
   "id": "54156379",
   "metadata": {},
   "source": [
    "Part 5: Mathematical Operations"
   ]
  },
  {
   "cell_type": "code",
   "execution_count": 23,
   "id": "24503851",
   "metadata": {},
   "outputs": [
    {
     "name": "stdout",
     "output_type": "stream",
     "text": [
      "[5 7 9]\n",
      "[ 4 10 18]\n",
      "[1 4 9]\n",
      "[[19 22]\n",
      " [43 50]]\n",
      "[[19 22]\n",
      " [43 50]]\n",
      "[[1 3]\n",
      " [2 4]]\n"
     ]
    }
   ],
   "source": [
    "x = np.array([1, 2, 3])\n",
    "y = np.array([4, 5, 6])\n",
    "\n",
    "print(x + y)   # [5 7 9]\n",
    "print(x * y)   # [ 4 10 18]\n",
    "print(x ** 2)  # [1 4 9]\n",
    "\n",
    "A = np.array([[1,2],[3,4]])\n",
    "B = np.array([[5,6],[7,8]])\n",
    "print(A @ B)   # matrix multiplication\n",
    "print(A.dot(B)) # matrix multiplication\n",
    "print(A.T)     # transpose of A "
   ]
  },
  {
   "cell_type": "markdown",
   "id": "9e48d2f7",
   "metadata": {},
   "source": [
    "Part 6: Aggregate Functions"
   ]
  },
  {
   "cell_type": "code",
   "execution_count": null,
   "id": "b7865476",
   "metadata": {},
   "outputs": [
    {
     "name": "stdout",
     "output_type": "stream",
     "text": [
      "15\n",
      "3.0\n",
      "5\n",
      "1\n",
      "4\n",
      "0\n"
     ]
    }
   ],
   "source": [
    "arr2 = np.array([1, 2, 3, 4, 5])\n",
    "print(arr2.sum())    # 15\n",
    "print(arr2.mean())   # 3.0\n",
    "print(arr2.max())    # 5\n",
    "print(arr2.min())    # 1\n",
    "print(arr2.argmax()) # 4  #index of max element\n",
    "print(arr2.argmin()) # 0  #index of min element"
   ]
  },
  {
   "cell_type": "markdown",
   "id": "6a915159",
   "metadata": {},
   "source": [
    "Part 7: Reshaping & Stacking"
   ]
  },
  {
   "cell_type": "code",
   "execution_count": null,
   "id": "9d656e4b",
   "metadata": {},
   "outputs": [
    {
     "name": "stdout",
     "output_type": "stream",
     "text": [
      "[[ 0  1  2  3]\n",
      " [ 4  5  6  7]\n",
      " [ 8  9 10 11]]\n",
      "[[ 0  1  2  3  4  5]\n",
      " [ 6  7  8  9 10 11]]\n",
      "[[1 2 3]\n",
      " [4 5 6]]\n",
      "[1 2 3 4 5 6]\n"
     ]
    }
   ],
   "source": [
    "arr = np.arange(12)   # [0 1 2 ... 11]\n",
    "print(arr.reshape(3,4))   # 3x4\n",
    "print(arr.reshape(2,6))   # 2x6  #total elements must match\n",
    "\n",
    "a = np.array([1,2,3])\n",
    "b = np.array([4,5,6])\n",
    "print(np.vstack((a,b)))     #Stacks arrays on top of each other (row-wise).\n",
    "print(np.hstack((a,b)))     #Stacks arrays side by side (column-wise).\n"
   ]
  },
  {
   "cell_type": "markdown",
   "id": "a33839b9",
   "metadata": {},
   "source": [
    "Part 8: Random Numbers"
   ]
  },
  {
   "cell_type": "code",
   "execution_count": null,
   "id": "374cd86f",
   "metadata": {},
   "outputs": [
    {
     "name": "stdout",
     "output_type": "stream",
     "text": [
      "[[0.50292612 0.9600604  0.45524596]\n",
      " [0.99103166 0.65870565 0.91576905]\n",
      " [0.66733241 0.35822701 0.10749479]]\n",
      "[[-0.1614453   0.98639478 -1.5365036 ]\n",
      " [ 0.12641909 -1.83497485 -0.22141495]\n",
      " [ 0.66771605 -0.08384726 -0.99704358]]\n",
      "[[1 8 2]\n",
      " [7 9 6]]\n"
     ]
    }
   ],
   "source": [
    "a1 = np.random.rand(3,3)   # uniform distribution -> every number between 0 and 1 is equally likely.\n",
    "print(a1)\n",
    "a2 = np.random.randn(3,3)  # normal distribution -> values can be negative or positive, clustering around 0.\n",
    "                           #Values are sampled from a normal distribution (bell curve).\n",
    "\n",
    "Mean = 0, Standard Deviation = 1 by default.\n",
    "print(a2)\n",
    "a3 = np.random.randint(1,10,(2,3))  # random ints 1-9 #Generates a 2×3 matrix of random integers.\n",
    "                                    #Integers are between 1 (inclusive) and 10 (exclusive) → so values are 1 to 9.\n",
    "print(a3)"
   ]
  }
 ],
 "metadata": {
  "kernelspec": {
   "display_name": ".venv",
   "language": "python",
   "name": "python3"
  },
  "language_info": {
   "codemirror_mode": {
    "name": "ipython",
    "version": 3
   },
   "file_extension": ".py",
   "mimetype": "text/x-python",
   "name": "python",
   "nbconvert_exporter": "python",
   "pygments_lexer": "ipython3",
   "version": "3.12.1"
  }
 },
 "nbformat": 4,
 "nbformat_minor": 5
}
