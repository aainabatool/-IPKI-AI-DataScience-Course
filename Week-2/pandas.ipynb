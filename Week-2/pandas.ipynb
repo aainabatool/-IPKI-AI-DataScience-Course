{
 "cells": [
  {
   "cell_type": "code",
   "execution_count": 1,
   "id": "7d5f5fdc",
   "metadata": {},
   "outputs": [
    {
     "name": "stdout",
     "output_type": "stream",
     "text": [
      "Requirement already satisfied: pandas in /workspaces/-IPKI-AI-DataScience-Course/venv/lib/python3.12/site-packages (2.3.2)\n",
      "Requirement already satisfied: numpy>=1.26.0 in /workspaces/-IPKI-AI-DataScience-Course/venv/lib/python3.12/site-packages (from pandas) (2.3.3)\n",
      "Requirement already satisfied: python-dateutil>=2.8.2 in /workspaces/-IPKI-AI-DataScience-Course/venv/lib/python3.12/site-packages (from pandas) (2.9.0.post0)\n",
      "Requirement already satisfied: pytz>=2020.1 in /workspaces/-IPKI-AI-DataScience-Course/venv/lib/python3.12/site-packages (from pandas) (2025.2)\n",
      "Requirement already satisfied: tzdata>=2022.7 in /workspaces/-IPKI-AI-DataScience-Course/venv/lib/python3.12/site-packages (from pandas) (2025.2)\n",
      "Requirement already satisfied: six>=1.5 in /workspaces/-IPKI-AI-DataScience-Course/venv/lib/python3.12/site-packages (from python-dateutil>=2.8.2->pandas) (1.17.0)\n",
      "\n",
      "\u001b[1m[\u001b[0m\u001b[34;49mnotice\u001b[0m\u001b[1;39;49m]\u001b[0m\u001b[39;49m A new release of pip is available: \u001b[0m\u001b[31;49m23.2.1\u001b[0m\u001b[39;49m -> \u001b[0m\u001b[32;49m25.2\u001b[0m\n",
      "\u001b[1m[\u001b[0m\u001b[34;49mnotice\u001b[0m\u001b[1;39;49m]\u001b[0m\u001b[39;49m To update, run: \u001b[0m\u001b[32;49mpip install --upgrade pip\u001b[0m\n"
     ]
    }
   ],
   "source": [
    "!pip install pandas\n"
   ]
  },
  {
   "cell_type": "code",
   "execution_count": 2,
   "id": "c07bb712",
   "metadata": {},
   "outputs": [],
   "source": [
    "import pandas as pd"
   ]
  },
  {
   "cell_type": "markdown",
   "id": "d2f774fc",
   "metadata": {},
   "source": [
    "Series"
   ]
  },
  {
   "cell_type": "code",
   "execution_count": 3,
   "id": "9d6cdf8b",
   "metadata": {},
   "outputs": [
    {
     "name": "stdout",
     "output_type": "stream",
     "text": [
      "0     Apple\n",
      "1    Banana\n",
      "2     Mango\n",
      "3    Grapes\n",
      "dtype: object\n"
     ]
    }
   ],
   "source": [
    "# Create a Series\n",
    "fruits = pd.Series([\"Apple\", \"Banana\", \"Mango\", \"Grapes\"])\n",
    "print(fruits)"
   ]
  },
  {
   "cell_type": "code",
   "execution_count": 4,
   "id": "483190c4",
   "metadata": {},
   "outputs": [
    {
     "name": "stdout",
     "output_type": "stream",
     "text": [
      "Apple     100\n",
      "Banana     60\n",
      "Mango      80\n",
      "Grapes    120\n",
      "dtype: int64\n"
     ]
    }
   ],
   "source": [
    "# With custom index\n",
    "prices = pd.Series([100, 60, 80, 120], index=[\"Apple\", \"Banana\", \"Mango\", \"Grapes\"])\n",
    "print(prices)"
   ]
  },
  {
   "cell_type": "markdown",
   "id": "24ee3bdd",
   "metadata": {},
   "source": [
    "DataFrame"
   ]
  },
  {
   "cell_type": "code",
   "execution_count": 6,
   "id": "15db18d1",
   "metadata": {},
   "outputs": [
    {
     "name": "stdout",
     "output_type": "stream",
     "text": [
      "80\n"
     ]
    }
   ],
   "source": [
    "#access by Index\n",
    "print(prices[\"Mango\"])"
   ]
  },
  {
   "cell_type": "code",
   "execution_count": 8,
   "id": "d383daba",
   "metadata": {},
   "outputs": [
    {
     "name": "stdout",
     "output_type": "stream",
     "text": [
      "    Name  Age  Marks\n",
      "0    Ali   18     85\n",
      "1   Sara   20     90\n",
      "2   John   17     78\n",
      "3  Aisha   19     88\n"
     ]
    }
   ],
   "source": [
    "data = {\n",
    "    \"Name\": [\"Ali\", \"Sara\", \"John\", \"Aisha\"],\n",
    "    \"Age\": [18, 20, 17, 19],\n",
    "    \"Marks\": [85, 90, 78, 88]\n",
    "}\n",
    "df = pd.DataFrame(data)\n",
    "print(df)\n"
   ]
  },
  {
   "cell_type": "code",
   "execution_count": 9,
   "id": "bc39253d",
   "metadata": {},
   "outputs": [
    {
     "name": "stdout",
     "output_type": "stream",
     "text": [
      "0      Ali\n",
      "1     Sara\n",
      "2     John\n",
      "3    Aisha\n",
      "Name: Name, dtype: object\n"
     ]
    }
   ],
   "source": [
    "# Accessing a column\n",
    "print(df[\"Name\"])"
   ]
  },
  {
   "cell_type": "code",
   "execution_count": 10,
   "id": "0c1eee8f",
   "metadata": {},
   "outputs": [
    {
     "name": "stdout",
     "output_type": "stream",
     "text": [
      "Name     Sara\n",
      "Age        20\n",
      "Marks      90\n",
      "Name: 1, dtype: object\n"
     ]
    }
   ],
   "source": [
    "# Accessing a column\n",
    "print(df.iloc[1])  # Second row"
   ]
  },
  {
   "cell_type": "code",
   "execution_count": 11,
   "id": "efdf80aa",
   "metadata": {},
   "outputs": [
    {
     "name": "stdout",
     "output_type": "stream",
     "text": [
      "    Name  Marks\n",
      "1   Sara     90\n",
      "2   John     78\n",
      "3  Aisha     88\n"
     ]
    }
   ],
   "source": [
    "#Accessing multiple rows and columns\n",
    "print(df.loc[1:3, [\"Name\", \"Marks\"]])  # Rows 1 to 3, Columns \"Name\" and \"Marks\""
   ]
  },
  {
   "cell_type": "markdown",
   "id": "33f78b71",
   "metadata": {},
   "source": [
    "Reading & Writing Data"
   ]
  },
  {
   "cell_type": "code",
   "execution_count": 16,
   "id": "eeb1a0fa",
   "metadata": {},
   "outputs": [],
   "source": [
    "df = pd.read_csv(\"car_sales_data.csv\")"
   ]
  },
  {
   "cell_type": "code",
   "execution_count": 17,
   "id": "0a00d471",
   "metadata": {},
   "outputs": [],
   "source": [
    "df.to_csv(\"output.csv\", index=False)"
   ]
  },
  {
   "cell_type": "markdown",
   "id": "834771d0",
   "metadata": {},
   "source": [
    "Basic Operations:"
   ]
  },
  {
   "cell_type": "code",
   "execution_count": 31,
   "id": "dad5c46f",
   "metadata": {},
   "outputs": [
    {
     "data": {
      "text/plain": [
       "(50000, 7)"
      ]
     },
     "execution_count": 31,
     "metadata": {},
     "output_type": "execute_result"
    }
   ],
   "source": [
    "#no. of rows and columns:\n",
    "df.shape\n"
   ]
  },
  {
   "cell_type": "code",
   "execution_count": 32,
   "id": "dff89d1b",
   "metadata": {},
   "outputs": [
    {
     "data": {
      "text/plain": [
       "50000"
      ]
     },
     "execution_count": 32,
     "metadata": {},
     "output_type": "execute_result"
    }
   ],
   "source": [
    "#only rows:\n",
    "len(df)     # number of rows\n",
    "\n"
   ]
  },
  {
   "cell_type": "code",
   "execution_count": 33,
   "id": "8d2c28f6",
   "metadata": {},
   "outputs": [
    {
     "name": "stdout",
     "output_type": "stream",
     "text": [
      "  Manufacturer       Model  Engine size Fuel type  Year of manufacture  \\\n",
      "0         Ford      Fiesta          1.0    Petrol                 2002   \n",
      "1      Porsche  718 Cayman          4.0    Petrol                 2016   \n",
      "2         Ford      Mondeo          1.6    Diesel                 2014   \n",
      "3       Toyota        RAV4          1.8    Hybrid                 1988   \n",
      "4           VW        Polo          1.0    Petrol                 2006   \n",
      "\n",
      "   Mileage  Price  \n",
      "0   127300   3074  \n",
      "1    57850  49704  \n",
      "2    39190  24072  \n",
      "3   210814   1705  \n",
      "4   127869   4101  \n",
      "      Manufacturer   Model  Engine size Fuel type  Year of manufacture  \\\n",
      "49995          BMW      M5          5.0    Petrol                 2018   \n",
      "49996       Toyota   Prius          1.8    Hybrid                 2003   \n",
      "49997         Ford  Mondeo          1.6    Diesel                 2022   \n",
      "49998         Ford   Focus          1.0    Diesel                 2016   \n",
      "49999           VW    Golf          1.4    Diesel                 2012   \n",
      "\n",
      "       Mileage   Price  \n",
      "49995    28664  113006  \n",
      "49996   105120    9430  \n",
      "49997     4030   49852  \n",
      "49998    26468   23630  \n",
      "49999   109300   10400  \n"
     ]
    }
   ],
   "source": [
    "print(df.head())          # First rows\n",
    "print(df.tail())        # Last 5 rows by defult"
   ]
  },
  {
   "cell_type": "code",
   "execution_count": 19,
   "id": "df1424a9",
   "metadata": {},
   "outputs": [
    {
     "name": "stdout",
     "output_type": "stream",
     "text": [
      "        Engine size  Year of manufacture        Mileage          Price\n",
      "count  50000.000000         50000.000000   50000.000000   50000.000000\n",
      "mean       1.773058          2004.209440  112497.320700   13828.903160\n",
      "std        0.734108             9.645965   71632.515602   16416.681336\n",
      "min        1.000000          1984.000000     630.000000      76.000000\n",
      "25%        1.400000          1996.000000   54352.250000    3060.750000\n",
      "50%        1.600000          2004.000000  100987.500000    7971.500000\n",
      "75%        2.000000          2012.000000  158601.000000   19026.500000\n",
      "max        5.000000          2022.000000  453537.000000  168081.000000\n"
     ]
    }
   ],
   "source": [
    "print(df.describe())      # Summary stats"
   ]
  },
  {
   "cell_type": "code",
   "execution_count": 21,
   "id": "960b58b7",
   "metadata": {},
   "outputs": [
    {
     "name": "stdout",
     "output_type": "stream",
     "text": [
      "      Manufacturer   Model  Engine size Fuel type  Year of manufacture  \\\n",
      "22786          BMW      M5          5.0    Petrol                 2022   \n",
      "14860          BMW      M5          5.0    Petrol                 2022   \n",
      "38438      Porsche     911          3.5    Petrol                 2022   \n",
      "49362      Porsche     911          3.5    Petrol                 2022   \n",
      "38166          BMW      M5          5.0    Petrol                 2022   \n",
      "...            ...     ...          ...       ...                  ...   \n",
      "27536         Ford  Fiesta          1.2    Petrol                 1986   \n",
      "21048         Ford  Fiesta          1.0    Petrol                 1985   \n",
      "41960         Ford  Fiesta          1.4    Petrol                 1984   \n",
      "44452         Ford  Fiesta          1.2    Petrol                 1984   \n",
      "18063           VW    Polo          1.0    Petrol                 1987   \n",
      "\n",
      "       Mileage   Price  \n",
      "22786     4590  168081  \n",
      "14860     4683  168001  \n",
      "38438     2931  167774  \n",
      "49362     6963  164343  \n",
      "38166     9797  163608  \n",
      "...        ...     ...  \n",
      "27536   391920     103  \n",
      "21048   375388     103  \n",
      "41960   395085      94  \n",
      "44452   396901      85  \n",
      "18063   422895      76  \n",
      "\n",
      "[50000 rows x 7 columns]\n"
     ]
    }
   ],
   "source": [
    "print(df.sort_values(\"Price\", ascending=False))  # Sort"
   ]
  },
  {
   "cell_type": "code",
   "execution_count": 23,
   "id": "e2535d16",
   "metadata": {},
   "outputs": [
    {
     "name": "stdout",
     "output_type": "stream",
     "text": [
      "Empty DataFrame\n",
      "Columns: [Manufacturer, Model, Engine size, Fuel type, Year of manufacture, Mileage, Price]\n",
      "Index: []\n"
     ]
    }
   ],
   "source": [
    "print(df[df[\"Price\"] > 10000000]) # Filter"
   ]
  },
  {
   "cell_type": "code",
   "execution_count": 27,
   "id": "e4bc2c6e",
   "metadata": {},
   "outputs": [
    {
     "name": "stdout",
     "output_type": "stream",
     "text": [
      "      Manufacturer       Model  Engine size Fuel type  Year of manufacture  \\\n",
      "81         Porsche  718 Cayman          2.4    Petrol                 2021   \n",
      "109         Toyota        RAV4          2.4    Petrol                 2021   \n",
      "167         Toyota        RAV4          1.8    Hybrid                 2021   \n",
      "226         Toyota        RAV4          1.8    Petrol                 2021   \n",
      "305           Ford       Focus          1.0    Petrol                 2021   \n",
      "...            ...         ...          ...       ...                  ...   \n",
      "49477       Toyota       Yaris          1.0    Petrol                 2021   \n",
      "49491       Toyota       Yaris          1.2    Hybrid                 2021   \n",
      "49494      Porsche         911          2.2    Petrol                 2021   \n",
      "49656           VW        Golf          1.8    Diesel                 2021   \n",
      "49794         Ford      Fiesta          1.2    Petrol                 2021   \n",
      "\n",
      "       Mileage   Price  \n",
      "81       14070   69526  \n",
      "109       6829   66031  \n",
      "167       8120   68163  \n",
      "226      21354   52908  \n",
      "305      14063   33627  \n",
      "...        ...     ...  \n",
      "49477     4443   28239  \n",
      "49491    13962   35318  \n",
      "49494     6280  122323  \n",
      "49656    17793   38998  \n",
      "49794    19070   24725  \n",
      "\n",
      "[606 rows x 7 columns]\n"
     ]
    }
   ],
   "source": [
    "print(df[df[\"Year of manufacture\"] == 2021]) # Filter"
   ]
  },
  {
   "cell_type": "markdown",
   "id": "666d4055",
   "metadata": {},
   "source": [
    "Group By:"
   ]
  },
  {
   "cell_type": "code",
   "execution_count": 28,
   "id": "c3fcdb63",
   "metadata": {},
   "outputs": [
    {
     "name": "stdout",
     "output_type": "stream",
     "text": [
      "Manufacturer\n",
      "BMW        24429.459215\n",
      "Ford       10672.288723\n",
      "Porsche    29103.764661\n",
      "Toyota     14340.362275\n",
      "VW         10363.139274\n",
      "Name: Price, dtype: float64\n"
     ]
    }
   ],
   "source": [
    "#“Which brand is most expensive on average?”\n",
    "avg_price = df.groupby(\"Manufacturer\")[\"Price\"].mean()\n",
    "print(avg_price)\n"
   ]
  },
  {
   "cell_type": "code",
   "execution_count": 29,
   "id": "0612c8ee",
   "metadata": {},
   "outputs": [
    {
     "name": "stdout",
     "output_type": "stream",
     "text": [
      "Fuel type\n",
      "Diesel    112667.486584\n",
      "Hybrid    111622.108502\n",
      "Petrol    112794.838159\n",
      "Name: Mileage, dtype: float64\n"
     ]
    }
   ],
   "source": [
    "#Average Mileage per Fuel Type\n",
    "avg_mileage = df.groupby(\"Fuel type\")[\"Mileage\"].mean()\n",
    "print(avg_mileage)\n"
   ]
  },
  {
   "cell_type": "code",
   "execution_count": 30,
   "id": "b9008281",
   "metadata": {},
   "outputs": [
    {
     "name": "stdout",
     "output_type": "stream",
     "text": [
      "                     Price        Mileage\n",
      "Manufacturer                             \n",
      "BMW           24429.459215  112837.733333\n",
      "Ford          10672.288723  112525.884819\n",
      "Porsche       29103.764661  111638.253737\n",
      "Toyota        14340.362275  111361.126494\n",
      "VW            10363.139274  113462.092939\n"
     ]
    }
   ],
   "source": [
    "#both average price and average mileage\n",
    "summary = df.groupby(\"Manufacturer\")[[\"Price\", \"Mileage\"]].mean()\n",
    "print(summary)\n"
   ]
  },
  {
   "cell_type": "code",
   "execution_count": null,
   "id": "33eef263",
   "metadata": {},
   "outputs": [],
   "source": []
  }
 ],
 "metadata": {
  "kernelspec": {
   "display_name": "venv",
   "language": "python",
   "name": "python3"
  },
  "language_info": {
   "codemirror_mode": {
    "name": "ipython",
    "version": 3
   },
   "file_extension": ".py",
   "mimetype": "text/x-python",
   "name": "python",
   "nbconvert_exporter": "python",
   "pygments_lexer": "ipython3",
   "version": "3.12.1"
  }
 },
 "nbformat": 4,
 "nbformat_minor": 5
}
